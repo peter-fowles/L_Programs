{
 "cells": [
  {
   "cell_type": "code",
   "execution_count": 1,
   "metadata": {},
   "outputs": [],
   "source": [
    "from l_program import L_Program, program_from_number"
   ]
  },
  {
   "cell_type": "markdown",
   "metadata": {},
   "source": [
    "### Create a new Program Object\n",
    "An L-Program can either be parsed from a text file or from a list of instructions. Generally, you should use the filename, as the list of instructions is meant for decompiling a program number. "
   ]
  },
  {
   "cell_type": "code",
   "execution_count": 2,
   "metadata": {},
   "outputs": [],
   "source": [
    "P = L_Program(filename='demo_program')"
   ]
  },
  {
   "cell_type": "code",
   "execution_count": 3,
   "metadata": {},
   "outputs": [
    {
     "name": "stdout",
     "output_type": "stream",
     "text": [
      "1. [A1] IF X1 != 0 GOTO B1\n",
      "2.      Z1 <- Z1 + 1\n",
      "3.      IF Z1 != 0 GOTO E1\n",
      "4. [B1] X1 <- X1 - 1\n",
      "5.      Y <- Y + 1\n",
      "6.      Y <- Y + 1\n",
      "7.      Y <- Y + 1\n",
      "8.      Z1 <- Z1 + 1\n",
      "9.      IF Z1 != 0 GOTO A1\n"
     ]
    }
   ],
   "source": [
    "print(P)"
   ]
  },
  {
   "cell_type": "markdown",
   "metadata": {},
   "source": [
    "### Converting program to a number\n",
    "You can get the Godel number, program number, and source number of a program. \n",
    "- The program numbers and source numbers are given as $\\Pi_{i = 1}^{\\textrm{P.program\\_length()}} \\textrm{prime}(i)^{\\textrm{P.godel\\_number()}[i - 1]}$\n",
    "- The source number is the program number - 1."
   ]
  },
  {
   "cell_type": "code",
   "execution_count": 4,
   "metadata": {},
   "outputs": [
    {
     "name": "stdout",
     "output_type": "stream",
     "text": [
      "[189, 18, 1278, 91, 2, 2, 2, 18, 78]\n",
      "47243807622267489949392508039876971902265112552268394401095476829714234460846905210760371537653712313389332251760323146973547005378043008869558842449325814699938914124694229538141585987806270594432574365406175882116316576090932019858340770794874292171249894203635454334713866353334044319814184387054540496083736936200905244993834605958373747777694999397021971858143049402756305800420892176522478943017896066050210420815739286304129517375603841673823581972881454387695995515031115474378513302555602896086153769699865633302510287230637932565618752221567146103680558160461468843360749387567201506631477853705963258839970261996626887651947505609688456048797353903063136833329464108384641336657375868227570018889505626660525278856244921664774562119096313553719390235105784570258360228459400968883991603690544530090378911602536333757366578201092242083985486415799796988320799302564581515075109949391597407522608137217208493829277169606407298419500744024457361547320033423602581024169921874999999999999999999999999999999999999999999999999999999999999999999999999999999999999999999999999999999999999999999999999999999999999999999999999999999999999999999999999999999999999999999999\n",
      "47243807622267489949392508039876971902265112552268394401095476829714234460846905210760371537653712313389332251760323146973547005378043008869558842449325814699938914124694229538141585987806270594432574365406175882116316576090932019858340770794874292171249894203635454334713866353334044319814184387054540496083736936200905244993834605958373747777694999397021971858143049402756305800420892176522478943017896066050210420815739286304129517375603841673823581972881454387695995515031115474378513302555602896086153769699865633302510287230637932565618752221567146103680558160461468843360749387567201506631477853705963258839970261996626887651947505609688456048797353903063136833329464108384641336657375868227570018889505626660525278856244921664774562119096313553719390235105784570258360228459400968883991603690544530090378911602536333757366578201092242083985486415799796988320799302564581515075109949391597407522608137217208493829277169606407298419500744024457361547320033423602581024169921875000000000000000000000000000000000000000000000000000000000000000000000000000000000000000000000000000000000000000000000000000000000000000000000000000000000000000000000000000000000000000000000\n",
      "[<1,<4,1>>, <0,<1,2>>, <0,<7,2>>, <2,<2,1>>, <0,<1,0>>, <0,<1,0>>, <0,<1,0>>, <0,<1,2>>, <0,<3,2>>] - 1\n",
      "311836912602146628334544598941564927\n"
     ]
    }
   ],
   "source": [
    "print(P.godel_number())\n",
    "print(P.program_number())\n",
    "print(P.source_number())\n",
    "print(P.split_numerical_repr())\n",
    "print(2 **45 * 3 ** 46 - 1)"
   ]
  },
  {
   "cell_type": "markdown",
   "metadata": {},
   "source": [
    "### Reverse compiling a program from a program number\n",
    "You can reverse compile a program that computes $\\Phi_{y}^{(n)}$ for any $y \\in \\mathbb{N}$."
   ]
  },
  {
   "cell_type": "code",
   "execution_count": 5,
   "metadata": {},
   "outputs": [
    {
     "name": "stdout",
     "output_type": "stream",
     "text": [
      "1. Y <- Y + 1\n",
      "2. Y <- Y\n",
      "3. Y <- Y + 1\n"
     ]
    }
   ],
   "source": [
    "y = 99\n",
    "P = program_from_number(y)\n",
    "print(P)"
   ]
  },
  {
   "cell_type": "markdown",
   "metadata": {},
   "source": [
    "### Running a program\n",
    "You can run a program by giving it a dictionary mapping variables that exist within the program's code to their initial values. Note that `'Y'` cannot be mapped to anything other than zero. Any variables not initialized here will instead be initialized at zero by default. \n",
    "\n",
    "Using the `show_snapshots` argument, you can also see every snapshot the program runs through. This also helps with debugging your program. \n",
    "\n",
    "In this example, the output should equal 3 times the number mapped to `'X1'`"
   ]
  },
  {
   "cell_type": "code",
   "execution_count": 8,
   "metadata": {},
   "outputs": [
    {
     "name": "stdout",
     "output_type": "stream",
     "text": [
      "(1, {Y:0,X1:2})\n",
      "(4, {Y:0,X1:2})\n",
      "(5, {Y:0,X1:1})\n",
      "(6, {Y:1,X1:1})\n",
      "(7, {Y:2,X1:1})\n",
      "(8, {Y:3,X1:1})\n",
      "(9, {Y:3,X1:1,Z1:1})\n",
      "(1, {Y:3,X1:1,Z1:1})\n",
      "(4, {Y:3,X1:1,Z1:1})\n",
      "(5, {Y:3,X1:0,Z1:1})\n",
      "(6, {Y:4,X1:0,Z1:1})\n",
      "(7, {Y:5,X1:0,Z1:1})\n",
      "(8, {Y:6,X1:0,Z1:1})\n",
      "(9, {Y:6,X1:0,Z1:2})\n",
      "(1, {Y:6,X1:0,Z1:2})\n",
      "(2, {Y:6,X1:0,Z1:2})\n",
      "(3, {Y:6,X1:0,Z1:3})\n",
      "(10, {Y:6,X1:0,Z1:3})\n"
     ]
    },
    {
     "data": {
      "text/plain": [
       "6"
      ]
     },
     "execution_count": 8,
     "metadata": {},
     "output_type": "execute_result"
    }
   ],
   "source": [
    "P = L_Program('demo_program')\n",
    "P.run({'X1':2}, show_snapshots=True)"
   ]
  }
 ],
 "metadata": {
  "kernelspec": {
   "display_name": "Python 3",
   "language": "python",
   "name": "python3"
  },
  "language_info": {
   "codemirror_mode": {
    "name": "ipython",
    "version": 3
   },
   "file_extension": ".py",
   "mimetype": "text/x-python",
   "name": "python",
   "nbconvert_exporter": "python",
   "pygments_lexer": "ipython3",
   "version": "3.13.0"
  }
 },
 "nbformat": 4,
 "nbformat_minor": 2
}
