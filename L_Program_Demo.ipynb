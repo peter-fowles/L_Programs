{
 "cells": [
  {
   "cell_type": "code",
   "execution_count": null,
   "metadata": {},
   "outputs": [],
   "source": [
    "from l_program import L_Program, program_from_number"
   ]
  },
  {
   "cell_type": "markdown",
   "metadata": {},
   "source": [
    "### Create a new Program Object\n",
    "An L-Program can either be parsed from a text file or from a list of instructions. Generally, you should use the filename, as the list of instructions is meant for decompiling a program number. "
   ]
  },
  {
   "cell_type": "code",
   "execution_count": null,
   "metadata": {},
   "outputs": [],
   "source": [
    "P = L_Program(filename='test_program')"
   ]
  },
  {
   "cell_type": "code",
   "execution_count": null,
   "metadata": {},
   "outputs": [],
   "source": [
    "print(P)"
   ]
  },
  {
   "cell_type": "markdown",
   "metadata": {},
   "source": [
    "### Converting program to a number\n",
    "You can get the Godel number, program number, and source number of a program. \n",
    "- The program numbers and source numbers are given as $\\Pi_{i = 1}^{\\textrm{P.program\\_length()}} \\textrm{prime}(i)^{\\textrm{P.godel\\_number()}[i - 1]}$\n",
    "- The source number is the program number - 1."
   ]
  },
  {
   "cell_type": "code",
   "execution_count": null,
   "metadata": {},
   "outputs": [],
   "source": [
    "print(P.godel_number())\n",
    "print(P.program_number())\n",
    "print(P.source_number())\n",
    "print(2 **45 * 3 ** 46 - 1)"
   ]
  },
  {
   "cell_type": "markdown",
   "metadata": {},
   "source": [
    "### Reverse compiling a program from a program number\n",
    "You can reverse compile a program that computes $\\Phi_{y}^{(n)}$ for any $y \\in \\mathbb{N}$."
   ]
  },
  {
   "cell_type": "code",
   "execution_count": null,
   "metadata": {},
   "outputs": [],
   "source": [
    "y = 99\n",
    "P = program_from_number(y)\n",
    "print(f'Variables are {P.variables}')\n",
    "print(f'Labels are {P.labels}\\n')\n",
    "print(P)"
   ]
  },
  {
   "cell_type": "markdown",
   "metadata": {},
   "source": [
    "### Running a program\n",
    "You can run a program by giving it a dictionary mapping variables that exist within the program's code to their initial values. Note that `'Y'` cannot be mapped to anything other than zero. Any variables not initialized here will instead be initialized at zero by default. \n",
    "\n",
    "Using the `show_snapshots` argument, you can also see every snapshot the program runs through. This also helps with debugging your program. \n",
    "\n",
    "In this example, the output should equal 3 times the number mapped to `'X'`"
   ]
  },
  {
   "cell_type": "code",
   "execution_count": null,
   "metadata": {},
   "outputs": [],
   "source": [
    "P.run({'X2':3}, show_snapshots=True)"
   ]
  }
 ],
 "metadata": {
  "kernelspec": {
   "display_name": "Python 3",
   "language": "python",
   "name": "python3"
  },
  "language_info": {
   "codemirror_mode": {
    "name": "ipython",
    "version": 3
   },
   "file_extension": ".py",
   "mimetype": "text/x-python",
   "name": "python",
   "nbconvert_exporter": "python",
   "pygments_lexer": "ipython3",
   "version": "3.13.0"
  }
 },
 "nbformat": 4,
 "nbformat_minor": 2
}
