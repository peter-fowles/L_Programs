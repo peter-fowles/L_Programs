{
 "cells": [
  {
   "cell_type": "code",
   "execution_count": 1,
   "metadata": {},
   "outputs": [],
   "source": [
    "from l_program import L_Program\n",
    "import godel_numbers"
   ]
  },
  {
   "cell_type": "markdown",
   "metadata": {},
   "source": [
    "### Create a new Program Object\n",
    "An L-Program can either be parsed from a text file or from a list of instructions. Generally, you should use the filename, as the list of instructions is meant for decompiling a program number. "
   ]
  },
  {
   "cell_type": "code",
   "execution_count": 2,
   "metadata": {},
   "outputs": [],
   "source": [
    "P = L_Program(filename='demo_program')"
   ]
  },
  {
   "cell_type": "code",
   "execution_count": 3,
   "metadata": {},
   "outputs": [
    {
     "name": "stdout",
     "output_type": "stream",
     "text": [
      "1. [A] IF X != 0 GOTO B\n",
      "2.     Z <- Z + 1\n",
      "3.     IF Z != 0 GOTO E\n",
      "4. [B] X <- X - 1\n",
      "5.     Y <- Y + 1\n",
      "6.     Y <- Y + 1\n",
      "7.     Y <- Y + 1\n",
      "8.     Z <- Z + 1\n",
      "9.     IF Z != 0 GOTO A\n"
     ]
    }
   ],
   "source": [
    "print(P)"
   ]
  },
  {
   "cell_type": "markdown",
   "metadata": {},
   "source": [
    "### Converting program to a number\n",
    "You can get the Godel number, program number, and source number of a program. \n",
    "- The program numbers and source numbers are given as $\\Pi_{i = 1}^{\\textrm{P.program\\_length()}} \\textrm{prime}(i)^{\\textrm{P.godel\\_number()}[i - 1]}$\n",
    "- The source number is the program number - 1."
   ]
  },
  {
   "cell_type": "code",
   "execution_count": 4,
   "metadata": {},
   "outputs": [
    {
     "name": "stdout",
     "output_type": "stream",
     "text": [
      "[189, 18, 158, 91, 26, 26, 26, 18, 78]\n",
      "122117821531224095615700344000604269110128139021650018959208573453653391980113536173669473952008770569753332658777835298713995991165130339683315878970270710760506464982653328880149686924941377992964542299035120030463868431330255770273082542667844824619896358635822467847389331202784446218097853595606770568816230399999999999999999999999999999999999999999999999999999999999999999999999999999999999999999999999999999999999999999999999999999999999999999999999999999999999999\n",
      "122117821531224095615700344000604269110128139021650018959208573453653391980113536173669473952008770569753332658777835298713995991165130339683315878970270710760506464982653328880149686924941377992964542299035120030463868431330255770273082542667844824619896358635822467847389331202784446218097853595606770568816230400000000000000000000000000000000000000000000000000000000000000000000000000000000000000000000000000000000000000000000000000000000000000000000000000000000000000\n"
     ]
    }
   ],
   "source": [
    "print(P.godel_number())\n",
    "print(P.program_number())\n",
    "print(P.source_number())"
   ]
  },
  {
   "cell_type": "markdown",
   "metadata": {},
   "source": [
    "### Factoring a source number\n",
    "You can factor a program's coded source number into a godel number. However, fully decompiling that godel number back into a working program is not yet implemented."
   ]
  },
  {
   "cell_type": "code",
   "execution_count": 5,
   "metadata": {},
   "outputs": [
    {
     "data": {
      "text/plain": [
       "[189, 18, 158, 91, 26, 26, 26, 18, 78]"
      ]
     },
     "execution_count": 5,
     "metadata": {},
     "output_type": "execute_result"
    }
   ],
   "source": [
    "godel_numbers.factor_godel(P.source_number())"
   ]
  },
  {
   "cell_type": "markdown",
   "metadata": {},
   "source": [
    "### Running a program\n",
    "You can run a program by giving it a dictionary mapping variables that exist within the program's code to their initial values. Note that 'Y' cannot be mapped to anything other than zero. Any variables not initialized here will instead be initialized at zero by default. \n",
    "\n",
    "Using the `show_snapshots` argument, you can also see every snapshot the program runs through. This also helps with debugging your program. \n",
    "\n",
    "In this example, the output should equal 3 times the number mapped to `'X'`"
   ]
  },
  {
   "cell_type": "code",
   "execution_count": 6,
   "metadata": {},
   "outputs": [
    {
     "name": "stdout",
     "output_type": "stream",
     "text": [
      "(1, {Y:0,X:5,Z:0})\n",
      "(4, {Y:0,X:5,Z:0})\n",
      "(5, {Y:0,X:4,Z:0})\n",
      "(6, {Y:1,X:4,Z:0})\n",
      "(7, {Y:2,X:4,Z:0})\n",
      "(8, {Y:3,X:4,Z:0})\n",
      "(9, {Y:3,X:4,Z:1})\n",
      "(1, {Y:3,X:4,Z:1})\n",
      "(4, {Y:3,X:4,Z:1})\n",
      "(5, {Y:3,X:3,Z:1})\n",
      "(6, {Y:4,X:3,Z:1})\n",
      "(7, {Y:5,X:3,Z:1})\n",
      "(8, {Y:6,X:3,Z:1})\n",
      "(9, {Y:6,X:3,Z:2})\n",
      "(1, {Y:6,X:3,Z:2})\n",
      "(4, {Y:6,X:3,Z:2})\n",
      "(5, {Y:6,X:2,Z:2})\n",
      "(6, {Y:7,X:2,Z:2})\n",
      "(7, {Y:8,X:2,Z:2})\n",
      "(8, {Y:9,X:2,Z:2})\n",
      "(9, {Y:9,X:2,Z:3})\n",
      "(1, {Y:9,X:2,Z:3})\n",
      "(4, {Y:9,X:2,Z:3})\n",
      "(5, {Y:9,X:1,Z:3})\n",
      "(6, {Y:10,X:1,Z:3})\n",
      "(7, {Y:11,X:1,Z:3})\n",
      "(8, {Y:12,X:1,Z:3})\n",
      "(9, {Y:12,X:1,Z:4})\n",
      "(1, {Y:12,X:1,Z:4})\n",
      "(4, {Y:12,X:1,Z:4})\n",
      "(5, {Y:12,X:0,Z:4})\n",
      "(6, {Y:13,X:0,Z:4})\n",
      "(7, {Y:14,X:0,Z:4})\n",
      "(8, {Y:15,X:0,Z:4})\n",
      "(9, {Y:15,X:0,Z:5})\n",
      "(1, {Y:15,X:0,Z:5})\n",
      "(2, {Y:15,X:0,Z:5})\n",
      "(3, {Y:15,X:0,Z:6})\n",
      "(10, {Y:15,X:0,Z:6})\n"
     ]
    },
    {
     "data": {
      "text/plain": [
       "15"
      ]
     },
     "execution_count": 6,
     "metadata": {},
     "output_type": "execute_result"
    }
   ],
   "source": [
    "P.run({'X':5}, show_snapshots=True)"
   ]
  }
 ],
 "metadata": {
  "kernelspec": {
   "display_name": "Python 3",
   "language": "python",
   "name": "python3"
  },
  "language_info": {
   "codemirror_mode": {
    "name": "ipython",
    "version": 3
   },
   "file_extension": ".py",
   "mimetype": "text/x-python",
   "name": "python",
   "nbconvert_exporter": "python",
   "pygments_lexer": "ipython3",
   "version": "3.13.0"
  }
 },
 "nbformat": 4,
 "nbformat_minor": 2
}
